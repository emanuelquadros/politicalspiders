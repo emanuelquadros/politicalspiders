{
 "cells": [
  {
   "cell_type": "code",
   "execution_count": 1,
   "metadata": {
    "autoscroll": "json-false",
    "collapsed": false,
    "ein.tags": [
     "worksheet-0"
    ],
    "slideshow": {
     "slide_type": "-"
    }
   },
   "outputs": [],
   "source": [
    "import json"
   ]
  },
  {
   "cell_type": "markdown",
   "metadata": {
    "ein.tags": [
     "worksheet-0"
    ],
    "slideshow": {
     "slide_type": "-"
    }
   },
   "source": [
    "##### Cleaning up and annotation"
   ]
  },
  {
   "cell_type": "markdown",
   "metadata": {
    "ein.tags": [
     "worksheet-0"
    ],
    "slideshow": {
     "slide_type": "-"
    }
   },
   "source": [
    "tijolaco e mercadopopular strings can simply be joined.\n",
    "institutoliberal e solidariedade need '\\n' separation."
   ]
  },
  {
   "cell_type": "code",
   "execution_count": 2,
   "metadata": {
    "autoscroll": "json-false",
    "collapsed": false,
    "ein.tags": [
     "worksheet-0"
    ],
    "slideshow": {
     "slide_type": "-"
    }
   },
   "outputs": [],
   "source": [
    "solidariedade = 'solidariedadesocialista.wordpress.com/corpus.json'\n",
    "tijolaco = 'tijolaco.com.br/corpus.json'\n",
    "mercadopopular = 'mercadopopular.org/corpus.json'\n",
    "institutoliberal = 'institutoliberal.org.br/corpus.json'\n",
    "ocafezinho = 'ocafezinho.com/corpus.json'\n",
    "midiasmascara = 'midiasemmascara.com.br/corpus.json'"
   ]
  },
  {
   "cell_type": "code",
   "execution_count": 3,
   "metadata": {
    "autoscroll": "json-false",
    "collapsed": false,
    "ein.tags": [
     "worksheet-0"
    ],
    "slideshow": {
     "slide_type": "-"
    }
   },
   "outputs": [],
   "source": [
    "def joinBodyLines(filename, sep=''):\n",
    "    outlist = []\n",
    "    with open(filename, 'r') as corpus:\n",
    "         for line in corpus:\n",
    "             post = json.loads(line)\n",
    "             try:\n",
    "                text = post['body']\n",
    "                text = sep.join(text)\n",
    "                post['body'] = text\n",
    "             except KeyError: pass\n",
    "             outlist.append(post)\n",
    "\n",
    "    return outlist"
   ]
  },
  {
   "cell_type": "code",
   "execution_count": 4,
   "metadata": {
    "autoscroll": "json-false",
    "collapsed": false,
    "ein.tags": [
     "worksheet-0"
    ],
    "slideshow": {
     "slide_type": "-"
    }
   },
   "outputs": [],
   "source": [
    "ocafezinhodata = joinBodyLines(ocafezinho, sep='\\n')\n",
    "msmdata = joinBodyLines(midiasmascara, sep='\\n')"
   ]
  },
  {
   "cell_type": "code",
   "execution_count": 4,
   "metadata": {
    "autoscroll": "json-false",
    "collapsed": false,
    "ein.tags": [
     "worksheet-0"
    ],
    "slideshow": {
     "slide_type": "-"
    }
   },
   "outputs": [
    {
     "name": "stdout",
     "output_type": "stream",
     "text": [
      "15933\n",
      "53\n"
     ]
    }
   ],
   "source": [
    "iliberaldata = joinBodyLines(institutoliberal, sep='\\n')\n",
    "mercadopdata = joinBodyLines(mercadopopular)\n",
    "tijolacodata = joinBodyLines(tijolaco)\n",
    "psoldata     = joinBodyLines(solidariedade, sep='\\n')\n",
    "wholedata = iliberaldata + mercadopdata + tijolacodata + psoldata\n",
    "\n",
    "print(len(wholedata))\n",
    "print(len(psoldata))\n"
   ]
  },
  {
   "cell_type": "code",
   "execution_count": 0,
   "metadata": {
    "autoscroll": "json-false",
    "collapsed": false,
    "ein.tags": [
     "worksheet-0"
    ],
    "slideshow": {
     "slide_type": "-"
    }
   },
   "outputs": [],
   "source": [
    "test_post = wholedata[1300]\n",
    "print(wholedata[0])\n",
    "test_post['body']"
   ]
  },
  {
   "cell_type": "markdown",
   "metadata": {
    "ein.tags": [
     "worksheet-0"
    ],
    "slideshow": {
     "slide_type": "-"
    }
   },
   "source": [
    "We want to convert words to lower case, remove punctuation and remove the list of Portuguese stop words in nltk.corpus.stopwords."
   ]
  },
  {
   "cell_type": "code",
   "execution_count": 6,
   "metadata": {
    "autoscroll": "json-false",
    "collapsed": false,
    "ein.tags": [
     "worksheet-0"
    ],
    "slideshow": {
     "slide_type": "-"
    }
   },
   "outputs": [],
   "source": [
    "from nltk.corpus import stopwords\n",
    "from nltk.tokenize import wordpunct_tokenize\n",
    "%load_ext Cython"
   ]
  },
  {
   "cell_type": "code",
   "execution_count": 7,
   "metadata": {
    "autoscroll": "json-false",
    "collapsed": false,
    "ein.tags": [
     "worksheet-0"
    ],
    "slideshow": {
     "slide_type": "-"
    }
   },
   "outputs": [],
   "source": [
    "%%cython\n",
    "from nltk.corpus import stopwords\n",
    "from nltk.tokenize import wordpunct_tokenize\n",
    "\n",
    "cpdef str _lower_and_clean(str text):\n",
    "     cdef list words\n",
    "     cdef list nonstopwords\n",
    "     words = wordpunct_tokenize(text.lower())\n",
    "     nonstopwords = []\n",
    "     for w in words:\n",
    "         if not w in stopwords.words(\"portuguese\"):\n",
    "            nonstopwords.append(w)\n",
    "     return(\" \".join(nonstopwords))\n",
    "\n",
    "cpdef dict lower_and_clean(dict dic):\n",
    "     try:\n",
    "         dic['body'] = _lower_and_clean(dic['body'])\n",
    "     except KeyError:\n",
    "         dic['body'] = \"\"\n",
    "     return(dic)"
   ]
  },
  {
   "cell_type": "code",
   "execution_count": 8,
   "metadata": {
    "autoscroll": "json-false",
    "collapsed": false,
    "ein.tags": [
     "worksheet-0"
    ],
    "slideshow": {
     "slide_type": "-"
    }
   },
   "outputs": [
    {
     "name": "stdout",
     "output_type": "stream",
     "text": [
      "CPU times: user 26min 43s, sys: 1min 38s, total: 28min 21s\n",
      "Wall time: 28min 23s\n"
     ]
    }
   ],
   "source": [
    "%%time\n",
    "ocafezinhodata = list(map(lower_and_clean, ocafezinhodata))\n",
    "msmdata = list(map(lower_and_clean, msmdata))"
   ]
  },
  {
   "cell_type": "code",
   "execution_count": 189,
   "metadata": {
    "autoscroll": "json-false",
    "collapsed": false,
    "ein.tags": [
     "worksheet-0"
    ],
    "slideshow": {
     "slide_type": "-"
    }
   },
   "outputs": [
    {
     "name": "stdout",
     "output_type": "stream",
     "text": [
      "CPU times: user 0 ns, sys: 0 ns, total: 0 ns\n",
      "Wall time: 5.01 µs\n"
     ]
    }
   ],
   "source": [
    "%%time\n",
    "iliberaldata = list(map(lower_and_clean, iliberaldata))"
   ]
  },
  {
   "cell_type": "code",
   "execution_count": 190,
   "metadata": {
    "autoscroll": "json-false",
    "collapsed": false,
    "ein.tags": [
     "worksheet-0"
    ],
    "slideshow": {
     "slide_type": "-"
    }
   },
   "outputs": [
    {
     "name": "stdout",
     "output_type": "stream",
     "text": [
      "CPU times: user 0 ns, sys: 0 ns, total: 0 ns\n",
      "Wall time: 3.81 µs\n"
     ]
    }
   ],
   "source": [
    "%%time\n",
    "mercadopdata = list(map(lower_and_clean, mercadopdata))"
   ]
  },
  {
   "cell_type": "code",
   "execution_count": 191,
   "metadata": {
    "autoscroll": "json-false",
    "collapsed": false,
    "ein.tags": [
     "worksheet-0"
    ],
    "slideshow": {
     "slide_type": "-"
    }
   },
   "outputs": [
    {
     "name": "stdout",
     "output_type": "stream",
     "text": [
      "CPU times: user 0 ns, sys: 0 ns, total: 0 ns\n",
      "Wall time: 4.05 µs\n"
     ]
    }
   ],
   "source": [
    "%%time\n",
    "tijolacodf = list(map(lower_and_clean, tijolacodata))"
   ]
  },
  {
   "cell_type": "code",
   "execution_count": 192,
   "metadata": {
    "autoscroll": "json-false",
    "collapsed": false,
    "ein.tags": [
     "worksheet-0"
    ],
    "slideshow": {
     "slide_type": "-"
    }
   },
   "outputs": [
    {
     "name": "stdout",
     "output_type": "stream",
     "text": [
      "CPU times: user 0 ns, sys: 0 ns, total: 0 ns\n",
      "Wall time: 4.05 µs\n"
     ]
    }
   ],
   "source": [
    "%%time\n",
    "psoldf = list(map(lower_and_clean, psoldata))"
   ]
  },
  {
   "cell_type": "markdown",
   "metadata": {
    "ein.tags": [
     "worksheet-0"
    ],
    "slideshow": {
     "slide_type": "-"
    }
   },
   "source": [
    "The next step is to create dataframes, annotating each text with their blogs, authors, dates and political orientation."
   ]
  },
  {
   "cell_type": "code",
   "execution_count": 10,
   "metadata": {
    "autoscroll": "json-false",
    "collapsed": false,
    "ein.tags": [
     "worksheet-0"
    ],
    "slideshow": {
     "slide_type": "-"
    }
   },
   "outputs": [],
   "source": [
    "import pandas as pd"
   ]
  },
  {
   "cell_type": "code",
   "execution_count": 11,
   "metadata": {
    "autoscroll": "json-false",
    "collapsed": false,
    "ein.tags": [
     "worksheet-0"
    ],
    "slideshow": {
     "slide_type": "-"
    }
   },
   "outputs": [],
   "source": [
    "ocafezinhodf = pd.DataFrame(ocafezinhodata)\n",
    "ocafezinhodf['blog'] = 'ocafezinho'\n",
    "ocafezinhodf['pol'] = 'left'\n",
    "\n",
    "msmdf = pd.DataFrame(msmdata)\n",
    "msmdf['blog'] = 'msm'\n",
    "msmdf['pol'] = 'right'\n",
    "\n",
    "ocafezinhodf.to_csv('datasets/ocafezinho.tsv', sep='\\t')\n",
    "msmdf.to_csv('datasets/midiasemmascara.tsv', sep='\\t')"
   ]
  },
  {
   "cell_type": "code",
   "execution_count": 198,
   "metadata": {
    "autoscroll": "json-false",
    "collapsed": false,
    "ein.tags": [
     "worksheet-0"
    ],
    "slideshow": {
     "slide_type": "-"
    }
   },
   "outputs": [
    {
     "name": "stdout",
     "output_type": "stream",
     "text": [
      "CPU times: user 52 ms, sys: 0 ns, total: 52 ms\n",
      "Wall time: 51.4 ms\n"
     ]
    }
   ],
   "source": [
    "%%time\n",
    "iliberaldf = pd.DataFrame(iliberaldata)\n",
    "mercadopdf = pd.DataFrame(mercadopdata)\n",
    "tijolacodf = pd.DataFrame(tijolacodata)\n",
    "psoldf = pd.DataFrame(psoldata)\n",
    "iliberaldf['blog'] = 'institutoliberal'\n",
    "iliberaldf['pol'] = 'right'\n",
    "mercadopdf['blog'] = 'mercadopopular'\n",
    "mercadopdf['pol'] = 'right'\n",
    "tijolacodf['blog'] = 'tijolaco'\n",
    "tijolacodf['pol']  = 'left'\n",
    "psoldf['blog'] = 'solidariedadesocialista'\n",
    "psoldf['pol'] = 'left'"
   ]
  },
  {
   "cell_type": "code",
   "execution_count": 203,
   "metadata": {
    "autoscroll": "json-false",
    "collapsed": false,
    "ein.tags": [
     "worksheet-0"
    ],
    "slideshow": {
     "slide_type": "-"
    }
   },
   "outputs": [
    {
     "name": "stdout",
     "output_type": "stream",
     "text": [
      "CPU times: user 796 ms, sys: 28 ms, total: 824 ms\n",
      "Wall time: 818 ms\n"
     ]
    }
   ],
   "source": [
    "%%time\n",
    "iliberaldf.to_csv('datasets/institutoliberal.tsv', sep='\\t')\n",
    "mercadopdf.to_csv('datasets/mercadopopular.tsv', sep='\\t')\n",
    "tijolacodf.to_csv('datasets/tijolaco.tsv', sep='\\t')\n",
    "psoldf.to_csv('datasets/solidariedadesocialista.tsv', sep='\\t')"
   ]
  },
  {
   "cell_type": "code",
   "execution_count": 11,
   "metadata": {
    "autoscroll": "json-false",
    "collapsed": false,
    "ein.tags": [
     "worksheet-0"
    ],
    "slideshow": {
     "slide_type": "-"
    }
   },
   "outputs": [
    {
     "name": "stdout",
     "output_type": "stream",
     "text": [
      "The Cython extension is already loaded. To reload it, use:\n",
      "  %reload_ext Cython\n"
     ]
    }
   ],
   "source": [
    "import json\n",
    "import pandas as pd\n",
    "from nltk.corpus import stopwords\n",
    "from nltk.tokenize import wordpunct_tokenize\n",
    "%load_ext Cython"
   ]
  }
 ],
 "metadata": {
  "kernelspec": {
   "display_name": "Python 3",
   "name": "python3"
  },
  "name": "cleaning-up-data.ipynb"
 },
 "nbformat": 4,
 "nbformat_minor": 2
}
